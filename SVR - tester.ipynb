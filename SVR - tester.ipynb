{
 "cells": [
  {
   "cell_type": "markdown",
   "id": "ce95c70f",
   "metadata": {},
   "source": [
    "# SVR - Tester\n",
    "\n",
    "All the test dataloader and features extraction of test data are processed in the trainer with well saved at local path.\n",
    "\n",
    "In tester, you can load the well trained model file \"model.pkl\" and well precessed test data files \"X_test_scaled\" and \"y_test\" to do the prediction testing with scoring method MSE. "
   ]
  },
  {
   "cell_type": "code",
   "execution_count": 20,
   "id": "ddb08c61",
   "metadata": {},
   "outputs": [
    {
     "name": "stdout",
     "output_type": "stream",
     "text": [
      "Testing MSE: 1483.1018982084156 - Time elapsed: 4.3720784187316895 seconds\n",
      "\n"
     ]
    }
   ],
   "source": [
    "import time\n",
    "import pickle\n",
    "\n",
    "#Load model for testing data\n",
    "loaded_model = joblib.load('model.pkl')\n",
    "\n",
    "#Load X test and y test from the saved file in trainer which includes the X scaled\n",
    "with open('X_test_scaled.pkl', 'rb') as xfile:\n",
    "    X_test_scaled = pickle.load(xfile)\n",
    "\n",
    "with open('y_test.pkl', 'rb') as yfile:\n",
    "    y_test = pickle.load(yfile)\n",
    "\n",
    "# Record the starting time\n",
    "start_time = time.time()\n",
    "\n",
    "#Do the prediction using the trained model and calculate the MSE loss\n",
    "y_test_pred = loaded_model.predict(X_test_scaled)\n",
    "Test_mse_loss = mean_squared_error(y_test, y_test_pred)\n",
    "\n",
    "# Record the ending time\n",
    "end_time = time.time()\n",
    "epoch_time = end_time - start_time\n",
    "# Output the result\n",
    "print(f\"Testing MSE: {Test_mse_loss} - Time elapsed: {epoch_time} seconds\\n\")"
   ]
  },
  {
   "cell_type": "markdown",
   "id": "601df996",
   "metadata": {},
   "source": [
    "###  Visulization of Performance"
   ]
  },
  {
   "cell_type": "code",
   "execution_count": 21,
   "id": "9b80c505",
   "metadata": {},
   "outputs": [],
   "source": [
    "# Load the path of test folder\n",
    "test_images_folder = 'C://Users//user//Desktop//CISC3023//project//Wound//Wound//Test'\n",
    "\n",
    "# build the output folder\n",
    "output_folder = \"performance-visualization\"\n",
    "os.makedirs(output_folder, exist_ok=True)\n",
    "\n",
    "# Ilterate the testing images\n",
    "for i in range(len(y_test)):\n",
    "    \n",
    "    #Read image by the corresponding file name in test folder\n",
    "    filename = filename_test_list[i]\n",
    "    image_path = os.path.join(test_images_folder, f\"{filename}\")\n",
    "    image = cv2.imread(image_path)\n",
    "    \n",
    "    # Decompose the corresponding actual values and predicted values\n",
    "    actual_center_x, actual_center_y, actual_width, actual_height = y_test[i]\n",
    "    pred_center_x, pred_center_y, pred_width, pred_height = y_test_pred[i]\n",
    "\n",
    "    # Draw the actual center point\n",
    "    cv2.circle(image, (int(actual_center_x), int(actual_center_y)), 5, (0, 0, 255), -1)\n",
    "    # Draw the actual wound location oval\n",
    "    cv2.ellipse(image, (int(actual_center_x), int(actual_center_y)), (int(actual_width/2), int(actual_height/2)), 0, 0, 360, (0, 0, 255), 2)\n",
    "    \n",
    "    # Draw prediction center point\n",
    "    cv2.circle(image, (int(pred_center_x), int(pred_center_y)), 5, (0, 255, 0), -1)\n",
    "    # Draw a predicted wound location oval\n",
    "    cv2.ellipse(image, (int(pred_center_x), int(pred_center_y)), (int(pred_width/2), int(pred_height/2)), 0, 0, 360, (0, 255, 0), 2)\n",
    "    # Save the annotated image\n",
    "    output_path = os.path.join(output_folder, f\"{filename}_annotated.jpg\")\n",
    "    cv2.imwrite(output_path, image)"
   ]
  },
  {
   "cell_type": "code",
   "execution_count": null,
   "id": "75ad928b",
   "metadata": {},
   "outputs": [],
   "source": []
  }
 ],
 "metadata": {
  "kernelspec": {
   "display_name": "Python 3 (ipykernel)",
   "language": "python",
   "name": "python3"
  },
  "language_info": {
   "codemirror_mode": {
    "name": "ipython",
    "version": 3
   },
   "file_extension": ".py",
   "mimetype": "text/x-python",
   "name": "python",
   "nbconvert_exporter": "python",
   "pygments_lexer": "ipython3",
   "version": "3.9.18"
  }
 },
 "nbformat": 4,
 "nbformat_minor": 5
}
